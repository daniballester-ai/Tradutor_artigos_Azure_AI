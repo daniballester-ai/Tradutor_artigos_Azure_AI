{
  "nbformat": 4,
  "nbformat_minor": 0,
  "metadata": {
    "colab": {
      "provenance": [],
      "collapsed_sections": [
        "M-UJ-8k-DBPh"
      ],
      "authorship_tag": "ABX9TyOkvC2cw0QMCAJbwnPUoeIi",
      "include_colab_link": true
    },
    "kernelspec": {
      "name": "python3",
      "display_name": "Python 3"
    },
    "language_info": {
      "name": "python"
    }
  },
  "cells": [
    {
      "cell_type": "markdown",
      "metadata": {
        "id": "view-in-github",
        "colab_type": "text"
      },
      "source": [
        "<a href=\"https://colab.research.google.com/github/daniballester-ai/Tradutor_artigos_Azure_AI/blob/main/Tradutor_Artigos_Tecnicos_AzureAI.ipynb\" target=\"_parent\"><img src=\"https://colab.research.google.com/assets/colab-badge.svg\" alt=\"Open In Colab\"/></a>"
      ]
    },
    {
      "cell_type": "markdown",
      "source": [
        "# Traduzindo documentos"
      ],
      "metadata": {
        "id": "M-UJ-8k-DBPh"
      }
    },
    {
      "cell_type": "code",
      "execution_count": 1,
      "metadata": {
        "colab": {
          "base_uri": "https://localhost:8080/"
        },
        "id": "9T_GZX0OBcb8",
        "outputId": "156d371a-5d14-414c-a43a-66e2a8915301"
      },
      "outputs": [
        {
          "output_type": "stream",
          "name": "stdout",
          "text": [
            "Requirement already satisfied: requests in /usr/local/lib/python3.12/dist-packages (2.32.4)\n",
            "Collecting python-docx\n",
            "  Downloading python_docx-1.2.0-py3-none-any.whl.metadata (2.0 kB)\n",
            "Requirement already satisfied: charset_normalizer<4,>=2 in /usr/local/lib/python3.12/dist-packages (from requests) (3.4.3)\n",
            "Requirement already satisfied: idna<4,>=2.5 in /usr/local/lib/python3.12/dist-packages (from requests) (3.10)\n",
            "Requirement already satisfied: urllib3<3,>=1.21.1 in /usr/local/lib/python3.12/dist-packages (from requests) (2.5.0)\n",
            "Requirement already satisfied: certifi>=2017.4.17 in /usr/local/lib/python3.12/dist-packages (from requests) (2025.8.3)\n",
            "Requirement already satisfied: lxml>=3.1.0 in /usr/local/lib/python3.12/dist-packages (from python-docx) (5.4.0)\n",
            "Requirement already satisfied: typing_extensions>=4.9.0 in /usr/local/lib/python3.12/dist-packages (from python-docx) (4.15.0)\n",
            "Downloading python_docx-1.2.0-py3-none-any.whl (252 kB)\n",
            "\u001b[2K   \u001b[90m━━━━━━━━━━━━━━━━━━━━━━━━━━━━━━━━━━━━━━━━\u001b[0m \u001b[32m253.0/253.0 kB\u001b[0m \u001b[31m5.4 MB/s\u001b[0m eta \u001b[36m0:00:00\u001b[0m\n",
            "\u001b[?25hInstalling collected packages: python-docx\n",
            "Successfully installed python-docx-1.2.0\n"
          ]
        }
      ],
      "source": [
        "!pip install requests python-docx"
      ]
    },
    {
      "cell_type": "code",
      "source": [
        "import requests\n",
        "from docx import Document\n",
        "import os\n",
        "\n",
        "subscription_key = \"6b29fc40ca4740f5a0c0b1a03a0a3822\"\n",
        "endpoint = 'https://api.cognitive.microsofttranslator.com'\n",
        "location = 'eastus2'\n",
        "language_destination = 'pt-br'\n",
        "\n",
        "def translator_text(text, target_language):\n",
        "    path = '/translate'\n",
        "    constructed_url = endpoint + path\n",
        "    headers = {\n",
        "        'Ocp-Apim-Subscription-Key': subscription_key,\n",
        "        'Ocp-Apim-Subscription-Region': location,\n",
        "        'Content-type': 'application/json',\n",
        "        'X-ClientTraceId  ': str(os.urandom(16))\n",
        "    }\n",
        "\n",
        "    body = [{\n",
        "        'text': text\n",
        "    }]\n",
        "\n",
        "    params = {\n",
        "        'api-version': '3.0',\n",
        "        'from': 'en',\n",
        "        'to': target_language\n",
        "    }\n",
        "\n",
        "    request = requests.post(constructed_url, headers=headers, json=body)\n",
        "    response = request.json()\n",
        "\n",
        "    return response[0]['translations'][0]['text']"
      ],
      "metadata": {
        "id": "cx9zxbLGDE-a"
      },
      "execution_count": 8,
      "outputs": []
    },
    {
      "cell_type": "code",
      "source": [
        "#Chamando a função de tradução de documento\n",
        "translator_text(\"I know you're somewhere out there, somewhere far away\", language_destination)"
      ],
      "metadata": {
        "colab": {
          "base_uri": "https://localhost:8080/"
        },
        "id": "rPgVBOnzFnsm",
        "outputId": "3ff8a0df-f7c5-43b6-c0d6-c7c429a1c90f"
      },
      "execution_count": 11,
      "outputs": [
        {
          "output_type": "stream",
          "name": "stdout",
          "text": [
            "'Eu sei que você está em algum lugar lá fora, em algum lugar distante'\n"
          ]
        }
      ]
    },
    {
      "cell_type": "code",
      "source": [
        "def translate_document(path):\n",
        "  document = Document(path)\n",
        "  full_text = []\n",
        "  for paragraph in document.paragraphs:\n",
        "    translated_text = translator_text(paragraph.text, language_destination)\n",
        "    full_text.append(translated_text)\n",
        "\n",
        "  translated_doc = Document()\n",
        "  for line in full_text:\n",
        "    translated_doc.add_paragraph(line)\n",
        "\n",
        "  path_translated = path.replace('.docx', f\"_(language_destination).docx\")\n",
        "  translated_doc.save(path_translated)\n",
        "  return path_translated\n",
        "\n",
        "input_file = \"/content/MUSICA.docx\"\n",
        "translate_document(input_file)"
      ],
      "metadata": {
        "colab": {
          "base_uri": "https://localhost:8080/"
        },
        "id": "hssnko3kKvWa",
        "outputId": "5f4189ed-c728-493a-9af1-d7a879897c21"
      },
      "execution_count": 14,
      "outputs": [
        {
          "output_type": "stream",
          "name": "stdout",
          "text": [
            "Eu sei que você está em algum lugar por aí, em algum lugar bem longe\n",
            "Eu quero você de volta, eu quero você de volta\n",
            "Meus vizinhos acham que eu sou louco, mas eles não entendem\n",
            "Você era tudo o que eu tinha, você era tudo o que eu tinha\n",
            "\n",
            "À noite, quando as estrelas iluminam meu quarto\n",
            "Eu me sento sozinho\n",
            "Conversando com a lua\n",
            "Tentando chegar até você\n",
            "Na esperança de que você esteja do outro lado falando comigo também\n",
            "Ou será que sou um tolo que fica sozinho conversando com a lua?\n",
            "Oh\n",
            "\n",
            "Estou me sentindo como se eu fosse famoso, o assunto da cidade\n",
            "Eles dizem que eu enlouqueci, sim, eu enlouqueci\n",
            "Mas eles não sabem o que eu sei, porque quando o sol se põe\n",
            "Alguém está respondendo, sim, estão me respondendo, oh\n",
            "\n",
            "À noite, quando as estrelas iluminam meu quarto\n",
            "Eu me sento sozinho\n",
            "Conversando com a lua\n",
            "Tentando chegar até você\n",
            "Na esperança de que você esteja do outro lado falando comigo também\n",
            "Ou será que sou um tolo que fica sozinho conversando com a lua?\n",
            "Ah, ah, ah\n",
            "\n",
            "Você consegue me ouvir chamando?\n",
            "(Ah) oh-oh-oh (ah), oh-oh-oh (ah)\n",
            "Porque toda noite eu estou conversando com a lua\n",
            "Ainda tentando chegar até você\n",
            "Na esperança de que você esteja do outro lado falando comigo também\n",
            "Ou será que sou um tolo que fica sozinho conversando com a lua?\n",
            "Oh\n",
            "\n",
            "Eu sei que você está em algum lugar por aí, em algum lugar bem longe\n"
          ]
        }
      ]
    },
    {
      "cell_type": "markdown",
      "source": [
        "# Traduzindo Artigos"
      ],
      "metadata": {
        "id": "DTJ0XBHvLkuA"
      }
    },
    {
      "cell_type": "code",
      "source": [
        "!pip install requests beautifulsoup4 openai langchain-openai"
      ],
      "metadata": {
        "colab": {
          "base_uri": "https://localhost:8080/"
        },
        "collapsed": true,
        "id": "E2vs_4-GLoDY",
        "outputId": "9c38503a-6915-42ec-8e36-401c1ad68533"
      },
      "execution_count": 15,
      "outputs": [
        {
          "output_type": "stream",
          "name": "stdout",
          "text": [
            "Requirement already satisfied: requests in /usr/local/lib/python3.12/dist-packages (2.32.4)\n",
            "Requirement already satisfied: beautifulsoup4 in /usr/local/lib/python3.12/dist-packages (4.13.5)\n",
            "Requirement already satisfied: openai in /usr/local/lib/python3.12/dist-packages (1.107.0)\n",
            "Collecting langchain-openai\n",
            "  Downloading langchain_openai-0.3.33-py3-none-any.whl.metadata (2.4 kB)\n",
            "Requirement already satisfied: charset_normalizer<4,>=2 in /usr/local/lib/python3.12/dist-packages (from requests) (3.4.3)\n",
            "Requirement already satisfied: idna<4,>=2.5 in /usr/local/lib/python3.12/dist-packages (from requests) (3.10)\n",
            "Requirement already satisfied: urllib3<3,>=1.21.1 in /usr/local/lib/python3.12/dist-packages (from requests) (2.5.0)\n",
            "Requirement already satisfied: certifi>=2017.4.17 in /usr/local/lib/python3.12/dist-packages (from requests) (2025.8.3)\n",
            "Requirement already satisfied: soupsieve>1.2 in /usr/local/lib/python3.12/dist-packages (from beautifulsoup4) (2.8)\n",
            "Requirement already satisfied: typing-extensions>=4.0.0 in /usr/local/lib/python3.12/dist-packages (from beautifulsoup4) (4.15.0)\n",
            "Requirement already satisfied: anyio<5,>=3.5.0 in /usr/local/lib/python3.12/dist-packages (from openai) (4.10.0)\n",
            "Requirement already satisfied: distro<2,>=1.7.0 in /usr/local/lib/python3.12/dist-packages (from openai) (1.9.0)\n",
            "Requirement already satisfied: httpx<1,>=0.23.0 in /usr/local/lib/python3.12/dist-packages (from openai) (0.28.1)\n",
            "Requirement already satisfied: jiter<1,>=0.4.0 in /usr/local/lib/python3.12/dist-packages (from openai) (0.10.0)\n",
            "Requirement already satisfied: pydantic<3,>=1.9.0 in /usr/local/lib/python3.12/dist-packages (from openai) (2.11.7)\n",
            "Requirement already satisfied: sniffio in /usr/local/lib/python3.12/dist-packages (from openai) (1.3.1)\n",
            "Requirement already satisfied: tqdm>4 in /usr/local/lib/python3.12/dist-packages (from openai) (4.67.1)\n",
            "Collecting langchain-core<1.0.0,>=0.3.76 (from langchain-openai)\n",
            "  Downloading langchain_core-0.3.76-py3-none-any.whl.metadata (3.7 kB)\n",
            "Requirement already satisfied: tiktoken<1,>=0.7 in /usr/local/lib/python3.12/dist-packages (from langchain-openai) (0.11.0)\n",
            "Requirement already satisfied: httpcore==1.* in /usr/local/lib/python3.12/dist-packages (from httpx<1,>=0.23.0->openai) (1.0.9)\n",
            "Requirement already satisfied: h11>=0.16 in /usr/local/lib/python3.12/dist-packages (from httpcore==1.*->httpx<1,>=0.23.0->openai) (0.16.0)\n",
            "Requirement already satisfied: langsmith>=0.3.45 in /usr/local/lib/python3.12/dist-packages (from langchain-core<1.0.0,>=0.3.76->langchain-openai) (0.4.27)\n",
            "Requirement already satisfied: tenacity!=8.4.0,<10.0.0,>=8.1.0 in /usr/local/lib/python3.12/dist-packages (from langchain-core<1.0.0,>=0.3.76->langchain-openai) (8.5.0)\n",
            "Requirement already satisfied: jsonpatch<2.0,>=1.33 in /usr/local/lib/python3.12/dist-packages (from langchain-core<1.0.0,>=0.3.76->langchain-openai) (1.33)\n",
            "Requirement already satisfied: PyYAML>=5.3 in /usr/local/lib/python3.12/dist-packages (from langchain-core<1.0.0,>=0.3.76->langchain-openai) (6.0.2)\n",
            "Requirement already satisfied: packaging>=23.2 in /usr/local/lib/python3.12/dist-packages (from langchain-core<1.0.0,>=0.3.76->langchain-openai) (25.0)\n",
            "Requirement already satisfied: annotated-types>=0.6.0 in /usr/local/lib/python3.12/dist-packages (from pydantic<3,>=1.9.0->openai) (0.7.0)\n",
            "Requirement already satisfied: pydantic-core==2.33.2 in /usr/local/lib/python3.12/dist-packages (from pydantic<3,>=1.9.0->openai) (2.33.2)\n",
            "Requirement already satisfied: typing-inspection>=0.4.0 in /usr/local/lib/python3.12/dist-packages (from pydantic<3,>=1.9.0->openai) (0.4.1)\n",
            "Requirement already satisfied: regex>=2022.1.18 in /usr/local/lib/python3.12/dist-packages (from tiktoken<1,>=0.7->langchain-openai) (2024.11.6)\n",
            "Requirement already satisfied: jsonpointer>=1.9 in /usr/local/lib/python3.12/dist-packages (from jsonpatch<2.0,>=1.33->langchain-core<1.0.0,>=0.3.76->langchain-openai) (3.0.0)\n",
            "Requirement already satisfied: orjson>=3.9.14 in /usr/local/lib/python3.12/dist-packages (from langsmith>=0.3.45->langchain-core<1.0.0,>=0.3.76->langchain-openai) (3.11.3)\n",
            "Requirement already satisfied: requests-toolbelt>=1.0.0 in /usr/local/lib/python3.12/dist-packages (from langsmith>=0.3.45->langchain-core<1.0.0,>=0.3.76->langchain-openai) (1.0.0)\n",
            "Requirement already satisfied: zstandard>=0.23.0 in /usr/local/lib/python3.12/dist-packages (from langsmith>=0.3.45->langchain-core<1.0.0,>=0.3.76->langchain-openai) (0.24.0)\n",
            "Downloading langchain_openai-0.3.33-py3-none-any.whl (74 kB)\n",
            "\u001b[2K   \u001b[90m━━━━━━━━━━━━━━━━━━━━━━━━━━━━━━━━━━━━━━━━\u001b[0m \u001b[32m75.0/75.0 kB\u001b[0m \u001b[31m3.0 MB/s\u001b[0m eta \u001b[36m0:00:00\u001b[0m\n",
            "\u001b[?25hDownloading langchain_core-0.3.76-py3-none-any.whl (447 kB)\n",
            "\u001b[2K   \u001b[90m━━━━━━━━━━━━━━━━━━━━━━━━━━━━━━━━━━━━━━━━\u001b[0m \u001b[32m447.5/447.5 kB\u001b[0m \u001b[31m15.2 MB/s\u001b[0m eta \u001b[36m0:00:00\u001b[0m\n",
            "\u001b[?25hInstalling collected packages: langchain-core, langchain-openai\n",
            "  Attempting uninstall: langchain-core\n",
            "    Found existing installation: langchain-core 0.3.75\n",
            "    Uninstalling langchain-core-0.3.75:\n",
            "      Successfully uninstalled langchain-core-0.3.75\n",
            "Successfully installed langchain-core-0.3.76 langchain-openai-0.3.33\n"
          ]
        }
      ]
    },
    {
      "cell_type": "code",
      "source": [
        "import requests\n",
        "from bs4 import BeautifulSoup\n",
        "\n",
        "def extract_text_from_url(url):\n",
        "  response = requests.get(url)\n",
        "\n",
        "  if response.status_code == 200:\n",
        "    soup = BeautifulSoup(response.text, 'html.parser')\n",
        "    for script_or_style in soup([\"script\", \"style\"]):\n",
        "      script_or_style.decompose()\n",
        "    text = soup.get_text(separator=' ')\n",
        "    lines = (line.strip() for line in text.splitlines())\n",
        "    chunks = (phrase.strip() for line in lines for phrase in line.split(\"  \"))\n",
        "    text = '\\n'.join(chunk for chunk in chunks if chunk)\n",
        "    return text\n",
        "  else:\n",
        "    print(f\"Failed to fetch the URL. Status code: {response.status_code}\")\n",
        "    return None\n",
        "\n",
        "  text = soup.get_text()\n",
        "  return text\n",
        "\n",
        "extract_text_from_url('https://dev.to/shakenbeer/i-just-had-a-revelation-17cb')"
      ],
      "metadata": {
        "colab": {
          "base_uri": "https://localhost:8080/",
          "height": 123
        },
        "id": "7h4tKETnMZKY",
        "outputId": "ebc19808-4e1c-4e0b-ff93-11c191bac70b"
      },
      "execution_count": 17,
      "outputs": [
        {
          "output_type": "execute_result",
          "data": {
            "text/plain": [
              "\"I just had a revelation - DEV Community\\nForem Feed\\nFollow new Subforems to improve your feed\\nDEV Community\\nFollow\\nA space to discuss and keep up software development and manage your software career\\nGamers Forem\\nFollow\\nAn inclusive community for gaming enthusiasts\\nFuture\\nFollow\\nNews and discussion of science and technology such as AI, VR, cryptocurrency, quantum computing, and more.\\nMusic Forem\\nFollow\\nFrom composing and gigging to gear, hot music takes, and everything in between.\\nDUMB DEV Community\\nFollow\\nMemes and software development shitposting\\nVibe Coding Forem\\nFollow\\nDiscussing AI software development, and showing off what we're building.\\nPopcorn Movies and TV\\nFollow\\nMovie and TV enthusiasm, criticism and everything in-between.\\nDesign Community\\nFollow\\nWeb design, graphic design and everything in-between\\nMaker Forem\\nFollow\\nA community for makers, hobbyists, and professionals to discuss Arduino, Raspberry Pi, 3D printing, and much more.\\nScale Forem\\nFollow\\nFor engineers building software at scale. We discuss architecture, cloud-native, and SRE—the hard-won lessons you can't just Google\\nForem Core\\nFollow\\nDiscussing the core forem open source software project — features, bugs, performance, self-hosting.\\nSecurity Forem\\nFollow\\nYour central hub for all things security. From ethical hacking and CTFs to GRC and career development, for beginners and pros alike\\nCrypto Forem\\nFollow\\nA collaborative community for all things Crypto—from Bitcoin to protocol development and DeFi to NFTs and market analysis.\\nOpen Forem\\nFollow\\nA general discussion space for the Forem community. If it doesn't have a home elsewhere, it belongs here\\nDropdown menu\\nDropdown menu\\nSkip to content\\nNavigation menu\\nSearch\\nPowered by Algolia\\nSearch\\nLog in\\nCreate account\\nDEV Community\\nClose\\nAdd reaction\\nLike\\nUnicorn\\nExploding Head\\nRaised Hands\\nFire\\nJump to Comments\\nSave\\nBoost\\nMore...\\nModerate\\nCopy link\\nCopy link\\nCopied to Clipboard\\nShare to X\\nShare to LinkedIn\\nShare to Facebook\\nShare to Mastodon\\nReport Abuse\\nSviatoslav Melnychenko\\nPosted on\\nSep 18\\nI just had a revelation\\n# kmp\\n# android\\nKMP for iOS is not production ready.\\nIn my opinion, it's all about the money. The goal is to create a new product and push it as fast and as hard as possible. This often means lying in our advertisements and never stopping the cycle. If we did stop, developers might realize that there was nothing wrong with Java and XML views.\\nWithout the pressure to keep up with new Android tech, Android developers could learn iOS development. Eventually, they might realize that a shared cross-platform codebase doesn't require Kotlin or a new framework when C and C++ are already available.\\nTop comments\\n(0)\\nSubscribe\\nPersonal\\nTrusted User\\nCreate template\\nTemplates let you quickly answer FAQs or store snippets for re-use.\\nSubmit\\nPreview\\nDismiss\\nCode of Conduct\\n•\\nReport abuse\\nAre you sure you want to hide this comment? It will become hidden in your post, but will still be visible via the comment's\\npermalink .\\nHide child comments as well\\nConfirm\\nFor further actions, you may consider blocking this person and/or\\nreporting abuse\\nSviatoslav Melnychenko\\nFollow\\nEveryday regular developer.\\nLocation\\nLeipzig\\nJoined\\nSep 3, 2019\\nTrending on\\nDEV Community\\nHot\\nHow We Built An AI-Assisted Dependency Vulnerability Scanner\\n# kiro\\n# kirohackathon\\n# productivity\\n# kirodotdev\\nAutomate GitHub Security Reviews with Glama’s AI Automation and MCP Servers\\n# ai\\n# beginners\\n# tutorial\\n# discuss\\nMeme Monday\\n# discuss\\n# watercooler\\n# jokes\\n💎 DEV Diamond Sponsors\\nThank you to our Diamond Sponsors for supporting the DEV Community\\nGoogle AI is the official AI Model and Platform Partner of DEV\\nNeon is the official database partner of DEV\\nAlgolia is the official search partner of DEV\\nDEV Community\\n— A space to discuss and keep up software development and manage your software career\\nHome\\nDEV++\\nPodcasts\\nVideos\\nTags\\nDEV Education Tracks\\nDEV Challenges\\nDEV Help\\nAdvertise on DEV\\nDEV Showcase\\nAbout\\nContact\\nFree Postgres Database\\nSoftware comparisons\\nForem Shop\\nCode of Conduct\\nPrivacy Policy\\nTerms of Use\\nBuilt on\\nForem\\n— the\\nopen source\\nsoftware that powers\\nDEV\\nand other inclusive communities.\\nMade with love and\\nRuby on Rails . DEV Community\\n©\\n2016 - 2025.\\nWe're a place where coders share, stay up-to-date and grow their careers.\\nLog in\\nCreate account\""
            ],
            "application/vnd.google.colaboratory.intrinsic+json": {
              "type": "string"
            }
          },
          "metadata": {},
          "execution_count": 17
        }
      ]
    },
    {
      "cell_type": "code",
      "source": [
        "from langchain_openai.chat_models.azure import AzureChatOpenAI\n",
        "\n",
        "client = AzureChatOpenAI(\n",
        "    azure_endpoint=\"https://oai-dio-bootcamp-dev-eastus-001.openai.azure.com/\",\n",
        "    api_key=\"730f2276a6a54c01964cf11672f08e7c\",\n",
        "    api_version=\"2024-02-15-preview\",\n",
        "    deployment_name=\"gpt-4o-mini\",\n",
        "    max_retries=0\n",
        ")\n",
        "\n",
        "def translate_article(text, lang):\n",
        "  messages = [\n",
        "      (\"system\", \"Você atua como tradutor de textos\"),\n",
        "      (\"user\", f\"Traduza o  {text} para o idioma {lang} e responda em markdown\")\n",
        "  ]\n",
        "  response = client.invoke(messages)\n",
        "  return response.content\n",
        "\n",
        "translate_article(\"A space to discuss and keep up software development and manage your software career\", \"pt-br\")"
      ],
      "metadata": {
        "colab": {
          "base_uri": "https://localhost:8080/"
        },
        "id": "rGDEWshBSoeE",
        "outputId": "23e769ca-bac9-4271-cabc-465a605062c3"
      },
      "execution_count": 31,
      "outputs": [
        {
          "output_type": "stream",
          "name": "stdout",
          "text": [
            "'Um espaço para discutir, se manter atualizado sobre desenvolvimento de software e gerenciar sua carreira'\n"
          ]
        }
      ]
    },
    {
      "cell_type": "code",
      "source": [
        "url = 'https://dev.to/shakenbeer/i-just-had-a-revelation-17cb'\n",
        "text = extract_text_from_url(url)\n",
        "article = translate_article(text, \"pt-br\")\n",
        "print(article)"
      ],
      "metadata": {
        "colab": {
          "base_uri": "https://localhost:8080/"
        },
        "id": "86QkXqeJSzIG",
        "outputId": "8012b801-59d4-4243-d44b-32263bc6ad14"
      },
      "execution_count": 33,
      "outputs": [
        {
          "output_type": "stream",
          "name": "stdout",
          "text": [
            "**Eu acabei de ter uma revelação**\n",
            "\n",
            "`#kmp` `#android`\n",
            "\n",
            "---\n",
            "\n",
            "**KMP para iOS não está pronto para produção.**\n",
            "\n",
            "Na minha opinião, é tudo por dinheiro. O objetivo é criar um novo produto e promovê-lo da forma mais rápida e agressiva possível. Isso muitas vezes significa mentir em nossas propagandas e nunca parar o ciclo. Se nós parássemos, os desenvolvedores talvez percebessem que não havia nada de errado com `Java` e as views em `XML`.\n",
            "\n",
            "Sem a pressão para acompanhar as novas tecnologias do `Android`, os desenvolvedores `Android` poderiam aprender a desenvolver para `iOS`. Eventualmente, eles poderiam perceber que uma base de código compartilhada e multiplataforma não precisa de `Kotlin` ou um novo framework quando `C` e `C++` já estão disponíveis.\n"
          ]
        }
      ]
    }
  ]
}